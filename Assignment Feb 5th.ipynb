{
 "cells": [
  {
   "cell_type": "markdown",
   "id": "860273ea-7ca8-4643-b44e-b6deb003e953",
   "metadata": {},
   "source": [
    "Q1. Explain Class and Object with respect to Object-Oriented Programming. Give a suitable example."
   ]
  },
  {
   "cell_type": "markdown",
   "id": "2f0bece5-edbf-445a-87cb-6256c5e74fa4",
   "metadata": {},
   "source": [
    "answer 1  In Object-Oriented Programming (OOP), a class is a blueprint for creating objects. It defines a set of attributes that will characterize any object that is instantiated from this class. An object is an instance of a class. This means that when a class is defined, only the description for the object is defined, and no memory or storage is allocated."
   ]
  },
  {
   "cell_type": "code",
   "execution_count": 3,
   "id": "4c36a8c5-c5dc-41d1-9704-e8d8783fc804",
   "metadata": {},
   "outputs": [],
   "source": [
    "class Car:  # This is a class\n",
    "    def __init__(self, color, brand):\n",
    "        self.color = color\n",
    "        self.brand = brand\n",
    "\n",
    "my_car = Car('red', 'Toyota')  # This is an object of the class Car"
   ]
  },
  {
   "cell_type": "markdown",
   "id": "bea9854a-0d1c-408b-8468-f6791244ebaa",
   "metadata": {},
   "source": [
    "Q2. Name the four pillars of OOPs.\n",
    "\n",
    "\n",
    "Answer :The four pillars of OOP are:\n",
    "\n",
    "1. Encapsulation: The practice of keeping fields within a class private, then providing access to them via public methods. It’s a protective barrier that keeps the data and code safe within the class itself.\n",
    "\n",
    "2. Inheritance: A process of using details from a new class without modifying existing class.\n",
    "\n",
    "3. Polymorphism: The process of using an operator or function in different ways for different data input.\n",
    "\n",
    "4. Abstraction: The process of hiding certain details and showing only essential information to the user.\n",
    "\n"
   ]
  },
  {
   "cell_type": "markdown",
   "id": "d07bae76-62d8-44a5-ba35-c0b0194e9f23",
   "metadata": {},
   "source": [
    "Q3. Explain why the __init__() function is used. Give a suitable example."
   ]
  },
  {
   "cell_type": "code",
   "execution_count": 5,
   "id": "15f32968-670f-4722-8bba-da4efbd5b47f",
   "metadata": {},
   "outputs": [],
   "source": [
    "#The `__init__()` function is a special method in Python classes, it is automatically called when an object of the class is instantiated. It is used to initialize the attributes of an object.\n",
    "\n",
    "class Car:\n",
    "    def __init__(self, color, brand):\n",
    "        self.color = color\n",
    "        self.brand = brand\n",
    "\n",
    "my_car = Car('red', 'Toyota')  # The __init__() function is called automatically\n",
    "\n",
    "\n"
   ]
  },
  {
   "cell_type": "code",
   "execution_count": null,
   "id": "b1040c1e-5094-4e68-9068-87f593a9361c",
   "metadata": {},
   "outputs": [],
   "source": [
    "Q4. `self` is used in OOP to represent the instance of the class. It binds the attributes with the given arguments. When we call a method of this object as `myobject.method(arg1, arg2)`, this is automatically converted by Python into `MyClass.method(myobject, arg1, arg2)` – this is all the special `self` is about.\n",
    "\n"
   ]
  },
  {
   "cell_type": "code",
   "execution_count": null,
   "id": "5db7590c-d710-4afe-84eb-8cad75d9b22f",
   "metadata": {},
   "outputs": [],
   "source": [
    "Q5. Inheritance is a way of creating a new class using details of an existing class without modifying it. The newly formed class is a derived class (or child class). Similarly, the existing class is a base class (or parent class).\n",
    "\n",
    "Example:\n",
    "\n",
    "```python\n",
    "# Parent class\n",
    "class Bird:\n",
    "    def __init__(self):\n",
    "        print(\"Bird is ready\")\n",
    "\n",
    "    def whoisThis(self):\n",
    "        print(\"Bird\")\n",
    "\n",
    "    def swim(self):\n",
    "        print(\"Swim faster\")\n",
    "\n",
    "# Child class\n",
    "class Penguin(Bird):\n",
    "    def __init__(self):\n",
    "        super().__init__()\n",
    "        print(\"Penguin is ready\")\n",
    "\n",
    "    def whoisThis(self):\n",
    "        print(\"Penguin\")\n",
    "\n",
    "    def run(self):\n",
    "        print(\"Run faster\")\n",
    "\n",
    "peggy = Penguin()\n",
    "peggy.whoisThis()\n",
    "peggy.swim()\n",
    "peggy.run()\n",
    "```\n",
    "\n",
    "In this example, `Penguin` is the child class that inherits from the `Bird` parent class. The child class `Penguin` inherits the methods of the parent class `Bird`. The child class can also override the methods of the parent class, as seen with the `whoisThis` method in the `Penguin` class. The child class can also have its own methods, as seen with the `run` method in the `Penguin` class."
   ]
  }
 ],
 "metadata": {
  "kernelspec": {
   "display_name": "Python 3 (ipykernel)",
   "language": "python",
   "name": "python3"
  },
  "language_info": {
   "codemirror_mode": {
    "name": "ipython",
    "version": 3
   },
   "file_extension": ".py",
   "mimetype": "text/x-python",
   "name": "python",
   "nbconvert_exporter": "python",
   "pygments_lexer": "ipython3",
   "version": "3.10.8"
  }
 },
 "nbformat": 4,
 "nbformat_minor": 5
}
