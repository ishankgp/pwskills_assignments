{
 "cells": [
  {
   "cell_type": "code",
   "execution_count": 2,
   "id": "6d4d707a",
   "metadata": {},
   "outputs": [
    {
     "ename": "SyntaxError",
     "evalue": "invalid syntax (Temp/ipykernel_7100/985367694.py, line 15)",
     "output_type": "error",
     "traceback": [
      "\u001b[1;36m  File \u001b[1;32m\"C:\\Users\\ishan\\AppData\\Local\\Temp/ipykernel_7100/985367694.py\"\u001b[1;36m, line \u001b[1;32m15\u001b[0m\n\u001b[1;33m    * **Regularization:** This involves adding a penalty to the model's loss function that penalizes the model for being too complex.\u001b[0m\n\u001b[1;37m      ^\u001b[0m\n\u001b[1;31mSyntaxError\u001b[0m\u001b[1;31m:\u001b[0m invalid syntax\n"
     ]
    }
   ],
   "source": [
    "# Q1: Define overfitting and underfitting in machine learning. What are the consequences of each, and how\n",
    "# can they be mitigated?\n",
    "\n",
    "# Overfitting occurs when a model learns the training data too well and as a result, it does not generalize well to new data. This can lead to poor performance on unseen data.\n",
    "\n",
    "# Underfitting occurs when a model does not learn the training data well enough and as a result, it does not perform well on either training or unseen data.\n",
    "\n",
    "# The consequences of overfitting and underfitting can be mitigated by using regularization techniques. Regularization techniques penalize the model for being too complex, which can help to prevent overfitting.\n",
    "\n",
    "# Q2: How can we reduce overfitting? Explain in brief.\n",
    "\n",
    "# There are a number of ways to reduce overfitting, including:\n",
    "\n",
    "# * **Data augmentation:** This involves artificially increasing the size of the training dataset by creating new data points that are similar to the existing data points.\n",
    "#* **Regularization:** This involves adding a penalty to the model's loss function that penalizes the model for being too complex.\n",
    "#* **Early stopping:** This involves stopping the training of the model early, before it has had a chance to overfit the training data.\n",
    "\n",
    "# Q3: Explain underfitting. List scenarios where underfitting can occur in ML.\n",
    "\n",
    "# Underfitting occurs when a model does not learn the training data well enough. This can happen for a number of reasons, including:\n",
    "\n",
    "# * The model is too simple.\n",
    "#* The model is not trained for long enough.\n",
    "#* The training data is not representative of the real-world data that the model will be used on.\n",
    "\n",
    "# Q4: Explain the bias-variance tradeoff in machine learning. What is the relationship between bias and\n",
    "# variance, and how do they affect model performance?\n",
    "\n",
    "# The bias-variance tradeoff is a fundamental concept in machine learning. It refers to the trade-off between bias and variance in a machine learning model.\n",
    "\n",
    "# Bias is the error that is introduced into a model due to its assumptions. Variance is the error that is introduced into a model due to the noise in the data.\n",
    "\n",
    "# A model with high bias will make predictions that are consistently biased in one direction. A model with high variance will make predictions that are very sensitive to the noise in the data.\n",
    "\n",
    "# The ideal model is one that has low bias and low variance. However, in practice, it is often necessary to trade off between bias and variance in order to achieve a good model.\n",
    "\n",
    "# Q5: Discuss some common methods for detecting overfitting and underfitting in machine learning models.\n",
    "# How can you determine whether your model is overfitting or underfitting?\n",
    "\n",
    "# There are a number of methods that can be used to detect overfitting and underfitting in machine learning models. These methods include:\n",
    "\n",
    "# * **Train-test split:** This involves splitting the data into two sets: a training set and a test set. The training set is used to train the model, and the test set is used to evaluate the model's performance.\n",
    "#* **Holdout validation:** This is a variation of the train-test split where a portion of the training set is held out and not used to train the model. This portion of the training set is then used to evaluate the model's performance.\n",
    "#* **Cross-validation:** This is a technique that involves repeatedly splitting the data into training and test sets and evaluating the model's performance on each set.\n",
    "\n",
    "# The best way to determine whether your model is overfitting or underfitting is to use a combination of these methods.\n",
    "\n",
    "# Q6: Compare and contrast bias and variance in machine learning. What are some examples of high bias\n",
    "# and high variance models, and how do they differ in terms of their performance?\n",
    "\n",
    "# Bias and variance are two important concepts in machine learning. Bias refers to the error that is introduced into a model due to its assumptions. Variance refers to the error that is introduced into a model due to the noise in the data.\n",
    "\n",
    "# A model with high bias will make predictions that are consistently biased in one direction. A model with high variance will make predictions that are very sensitive to the noise in the data.\n",
    "\n",
    "# Some examples of high bias models include linear regression and decision trees. These models are simple and easy to understand, but they can be prone to overfitting.\n",
    "\n",
    "# Some examples of high variance models include neural networks and random forests. These models are complex and can learn complex patterns in the data, but they can also be prone to overfitting.\n",
    "\n",
    "# In terms of their performance, models with high bias tend to be more stable, while models with high variance tend to be more accurate. However"
   ]
  },
  {
   "cell_type": "code",
   "execution_count": null,
   "id": "04a7e405",
   "metadata": {},
   "outputs": [],
   "source": []
  }
 ],
 "metadata": {
  "kernelspec": {
   "display_name": "Python 3 (ipykernel)",
   "language": "python",
   "name": "python3"
  },
  "language_info": {
   "codemirror_mode": {
    "name": "ipython",
    "version": 3
   },
   "file_extension": ".py",
   "mimetype": "text/x-python",
   "name": "python",
   "nbconvert_exporter": "python",
   "pygments_lexer": "ipython3",
   "version": "3.9.7"
  }
 },
 "nbformat": 4,
 "nbformat_minor": 5
}
