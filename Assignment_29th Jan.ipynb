{
 "cells": [
  {
   "cell_type": "code",
   "execution_count": 1,
   "id": "9c8721d6",
   "metadata": {},
   "outputs": [],
   "source": [
    "# Q&A about Python\n",
    "\n",
    "# 1. Who developed Python Programming Language?\n",
    "# Answer: Guido van Rossum\n",
    "\n",
    "# 2. Which type of Programming does Python support?\n",
    "# Answer: Object-oriented, procedural, functional\n",
    "\n",
    "# 3. Is Python case sensitive when dealing with identifiers?\n",
    "# Answer: Yes\n",
    "\n",
    "# 4. What is the correct extension of the Python file?\n",
    "# Answer: .py\n",
    "\n",
    "# 5. Is Python code compiled or interpreted?\n",
    "# Answer: Interpreted\n",
    "\n",
    "# 6. Name a few blocks of code used to define in Python language?\n",
    "# Answer: def, class, if, for, while\n",
    "\n",
    "# 7. State a character used to give single-line comments in Python?\n",
    "# Answer: #\n",
    "\n",
    "# 8. Mention functions which can help us to find the version of python that we are currently working on?\n",
    "# Answer: __version__, sys.version\n",
    "\n",
    "# 9. Python supports the creation of anonymous functions at runtime, using a construct called\n",
    "# Answer: lambda\n",
    "\n",
    "# 10. What does pip stand for python?\n",
    "# Answer: Package Installer for Python\n",
    "\n",
    "# 11. Mention a few built-in functions in python?\n",
    "# Answer: print, len, type, input\n",
    "\n",
    "# 12. What is the maximum possible length of an identifier in Python?\n",
    "# Answer: 79 characters\n",
    "\n",
    "# 13. What are the benefits of using Python?\n",
    "# Answer: Easy to learn, readable, versatile, powerful, free and open-source\n",
    "\n",
    "# 14. How is memory managed in Python?\n",
    "# Answer: Garbage collection\n",
    "\n",
    "# 15. How to install Python on Windows and set path variables?\n",
    "# Answer: https://docs.python.org/3/tutorial/install.html\n",
    "\n",
    "# 16. Is indentation required in python?\n",
    "# Answer: Yes, indentation is used to define blocks of code in Python\n"
   ]
  },
  {
   "cell_type": "code",
   "execution_count": null,
   "id": "8bca7577",
   "metadata": {},
   "outputs": [],
   "source": []
  }
 ],
 "metadata": {
  "kernelspec": {
   "display_name": "Python 3 (ipykernel)",
   "language": "python",
   "name": "python3"
  },
  "language_info": {
   "codemirror_mode": {
    "name": "ipython",
    "version": 3
   },
   "file_extension": ".py",
   "mimetype": "text/x-python",
   "name": "python",
   "nbconvert_exporter": "python",
   "pygments_lexer": "ipython3",
   "version": "3.9.7"
  }
 },
 "nbformat": 4,
 "nbformat_minor": 5
}
