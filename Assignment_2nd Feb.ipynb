{
 "cells": [
  {
   "cell_type": "markdown",
   "id": "1b87544f-40dd-4500-9058-5baaea002f44",
   "metadata": {},
   "source": [
    "Q1 Explain with an example each when to use a for loop and a while loop.\n",
    "\n",
    "Answer : Use for loop when upper bound is known , use while loop when loop continues tilla condition is met. "
   ]
  },
  {
   "cell_type": "code",
   "execution_count": 1,
   "id": "020fa1c0-a8b3-44b3-89a9-a290293000a8",
   "metadata": {},
   "outputs": [
    {
     "name": "stdout",
     "output_type": "stream",
     "text": [
      "Sum and product by for loop :  55 3628800\n",
      "Sum and product by while loop :  55 3628800\n"
     ]
    }
   ],
   "source": [
    "# For loop Example\n",
    "sum1 = 0\n",
    "prod = 1\n",
    "for i in range(1,11):\n",
    "    sum1 = sum1 + i\n",
    "    prod = prod *(i)\n",
    "\n",
    "print(\"Sum and product by for loop : \",sum1, prod)\n",
    "\n",
    "# While loop Example\n",
    "\n",
    "sum = 0\n",
    "product = 1\n",
    "i=1\n",
    "while i <=10:\n",
    "    sum = sum + i\n",
    "    product = product *i\n",
    "    i+=1\n",
    "\n",
    "print(\"Sum and product by while loop : \",sum, product)"
   ]
  },
  {
   "cell_type": "markdown",
   "id": "6827e3a5-6edc-4575-b56f-f7fc5e61ea81",
   "metadata": {},
   "source": [
    "Q2 Write a python program to print the sum and product of the first 10 natural numbers using for\n",
    "and while loop.\n"
   ]
  },
  {
   "cell_type": "code",
   "execution_count": 2,
   "id": "b858a9a6-e79a-4627-9151-79e4ca777781",
   "metadata": {},
   "outputs": [
    {
     "name": "stdout",
     "output_type": "stream",
     "text": [
      "55 3628800\n"
     ]
    }
   ],
   "source": [
    "# For loop Example\n",
    "sum1 = 0\n",
    "prod = 1\n",
    "for i in range(1,11):\n",
    "    sum1 = sum1 + i\n",
    "    prod = prod *(i)\n",
    "\n",
    "print(sum1, prod)"
   ]
  },
  {
   "cell_type": "code",
   "execution_count": 3,
   "id": "32708e3e-0c42-4f98-b1ae-e806840b2a5c",
   "metadata": {},
   "outputs": [
    {
     "name": "stdout",
     "output_type": "stream",
     "text": [
      "55 3628800\n"
     ]
    }
   ],
   "source": [
    "# While loop Example\n",
    "\n",
    "sum = 0\n",
    "product = 1\n",
    "i=1\n",
    "while i <=10:\n",
    "    sum = sum + i\n",
    "    product = product *i\n",
    "    i+=1\n",
    "\n",
    "print(sum1, prod)"
   ]
  },
  {
   "cell_type": "markdown",
   "id": "20d1cc23-817d-48c4-bd4b-a0bb357d7f8a",
   "metadata": {},
   "source": [
    "Q3 Create a python program to compute the electricity bill for a household.\n",
    "\n",
    "The per-unit charges in rupees are as follows: For the first 100 units, the user will be charged Rs. 4.5 per\n",
    "unit, for the next 100 units, the user will be charged Rs. 6 per unit, and for the next 100 units, the user will\n",
    "be charged Rs. 10 per unit, After 300 units and above the user will be charged Rs. 20 per unit.\n",
    "You are required to take the units of electricity consumed in a month from the user as input.\n",
    "Your program must pass this test case: when the unit of electricity consumed by the user in a month is\n",
    "310, the total electricity bill should be 2250."
   ]
  },
  {
   "cell_type": "code",
   "execution_count": 4,
   "id": "b7f6a89c-789a-42db-8bef-3fdfad814bd7",
   "metadata": {},
   "outputs": [
    {
     "name": "stdin",
     "output_type": "stream",
     "text": [
      "Enter the number of units consumed:  310\n"
     ]
    },
    {
     "name": "stdout",
     "output_type": "stream",
     "text": [
      "Your electricity bill is: Rs. 2250.0\n"
     ]
    }
   ],
   "source": [
    "# Input the number of units consumed\n",
    "units = int(input(\"Enter the number of units consumed: \"))\n",
    "\n",
    "# Initialize the variables\n",
    "bill = 0\n",
    "\n",
    "# Compute the electricity bill based on the per-unit charges\n",
    "if units <= 100:\n",
    "    bill = units * 4.5\n",
    "elif units <= 200:\n",
    "    bill = (100 * 4.5) + ((units - 100) * 6)\n",
    "elif units <= 300:\n",
    "    bill = (100 * 4.5) + (100 * 6) + ((units - 200) * 10)\n",
    "else:\n",
    "    bill = (100 * 4.5) + (100 * 6) + (100 * 10) + ((units - 300) * 20)\n",
    "\n",
    "# Print the electricity bill\n",
    "print(\"Your electricity bill is: Rs.\", bill)"
   ]
  },
  {
   "cell_type": "markdown",
   "id": "d24a0cc1-afc6-4fbf-ac2b-7d1554f1c3f9",
   "metadata": {},
   "source": [
    "Q4. Create a list of numbers from 1 to 100. Use for loop and while loop to calculate the cube of each\n",
    "number and ifthe cube of that number is divisible by 4 or 5 then append that number in a list and print\n",
    "that list."
   ]
  },
  {
   "cell_type": "code",
   "execution_count": 8,
   "id": "30c57a51-6c36-45c4-b5e5-b689aebd7375",
   "metadata": {},
   "outputs": [
    {
     "name": "stdout",
     "output_type": "stream",
     "text": [
      "[8, 64, 125, 216, 512, 1000, 1728, 2744, 3375, 4096, 5832, 8000, 10648, 13824, 15625, 17576, 21952, 27000, 32768, 39304, 42875, 46656, 54872, 64000, 74088, 85184, 91125, 97336, 110592, 125000, 140608, 157464, 166375, 175616, 195112, 216000, 238328, 262144, 274625, 287496, 314432, 343000, 373248, 405224, 421875, 438976, 474552, 512000, 551368, 592704, 614125, 636056, 681472, 729000, 778688, 830584, 857375, 884736, 941192, 1000000]\n"
     ]
    }
   ],
   "source": [
    "# for loop \n",
    "numbers = []\n",
    "list_cube = []\n",
    "for i in range(1,101):\n",
    "    numbers.append(i)\n",
    "    cube = i**3\n",
    "    if(cube % 4 ==0 or cube %5 ==0):\n",
    "        list_cube.append(cube)\n",
    "\n",
    "print(list_cube)        "
   ]
  },
  {
   "cell_type": "code",
   "execution_count": 7,
   "id": "29e4b62e-5724-417f-a1b9-18cff2a1b4b5",
   "metadata": {},
   "outputs": [
    {
     "name": "stdout",
     "output_type": "stream",
     "text": [
      "[8, 64, 125, 216, 512, 1000, 1728, 2744, 3375, 4096, 5832, 8000, 10648, 13824, 15625, 17576, 21952, 27000, 32768, 39304, 42875, 46656, 54872, 64000, 74088, 85184, 91125, 97336, 110592, 125000, 140608, 157464, 166375, 175616, 195112, 216000, 238328, 262144, 274625, 287496, 314432, 343000, 373248, 405224, 421875, 438976, 474552, 512000, 551368, 592704, 614125, 636056, 681472, 729000, 778688, 830584, 857375, 884736, 941192, 1000000]\n"
     ]
    }
   ],
   "source": [
    "# for loop \n",
    "i=1\n",
    "numbers = []\n",
    "list_cube = []\n",
    "while i<= 100:\n",
    "    numbers.append(i)\n",
    "    cube = i**3\n",
    "    if(cube % 4 ==0 or cube %5 ==0):\n",
    "        list_cube.append(cube)\n",
    "    i+=1\n",
    "print(list_cube)"
   ]
  },
  {
   "cell_type": "markdown",
   "id": "546c1a66-c021-47b1-8bf1-a192d79b429e",
   "metadata": {},
   "source": [
    "Q5 . Write a program to filter and count vowels in the below-given string.\n",
    "string = \"I want to become a data scientist\"\n"
   ]
  },
  {
   "cell_type": "code",
   "execution_count": 10,
   "id": "8f207258-1de3-4b8d-aeb1-a779eb194785",
   "metadata": {},
   "outputs": [
    {
     "name": "stdout",
     "output_type": "stream",
     "text": [
      "The count of vowels in the string is: 12\n"
     ]
    }
   ],
   "source": [
    "string = \"I want to become a data scientist\"\n",
    "\n",
    "vowels = ['a', 'e', 'i', 'o', 'u']\n",
    "\n",
    "vowels_count =0 \n",
    "\n",
    "for char in string:\n",
    "    if char.lower() in vowels:\n",
    "        vowels_count +=1\n",
    "        \n",
    "print(\"The count of vowels in the string is:\", vowels_count)\n",
    "        "
   ]
  },
  {
   "cell_type": "code",
   "execution_count": null,
   "id": "fc55827c-c409-4fe4-9f10-a2077aa13f95",
   "metadata": {},
   "outputs": [],
   "source": []
  }
 ],
 "metadata": {
  "kernelspec": {
   "display_name": "Python 3 (ipykernel)",
   "language": "python",
   "name": "python3"
  },
  "language_info": {
   "codemirror_mode": {
    "name": "ipython",
    "version": 3
   },
   "file_extension": ".py",
   "mimetype": "text/x-python",
   "name": "python",
   "nbconvert_exporter": "python",
   "pygments_lexer": "ipython3",
   "version": "3.10.8"
  }
 },
 "nbformat": 4,
 "nbformat_minor": 5
}
