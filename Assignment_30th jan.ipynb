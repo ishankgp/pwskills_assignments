{
 "cells": [
  {
   "cell_type": "code",
   "execution_count": 2,
   "id": "9c8721d6",
   "metadata": {},
   "outputs": [
    {
     "name": "stdout",
     "output_type": "stream",
     "text": [
      "Enter your percentage: 86\n",
      "Your grade is: A\n"
     ]
    }
   ],
   "source": [
    "# Assignment 2\n",
    "\n",
    "# 1. Write a program to accept percentage from the user and display the grade according to the following\n",
    "marks = int(input(\"Enter your percentage: \"))\n",
    "if marks > 80:\n",
    "  grade = \"A\"\n",
    "elif marks >= 60:\n",
    "  grade = \"B\"\n",
    "else:\n",
    "  grade = \"C\"\n",
    "print(\"Your grade is:\", grade)\n",
    "\n"
   ]
  },
  {
   "cell_type": "code",
   "execution_count": 4,
   "id": "8bca7577",
   "metadata": {},
   "outputs": [
    {
     "name": "stdout",
     "output_type": "stream",
     "text": [
      "Enter the cost price of the bike: 62222\n",
      "The road tax to be paid is: 9333.3\n"
     ]
    }
   ],
   "source": [
    "# 2. Write a program to accept the cost price of a bike and display the road tax to be paid according to the following criteria:\n",
    "cost_price = int(input(\"Enter the cost price of the bike: \"))\n",
    "if cost_price > 50000:\n",
    "  road_tax = 0.15 * cost_price\n",
    "elif cost_price <= 50000 and cost_price >= 10000:\n",
    "  road_tax = 0.1 * cost_price\n",
    "else:\n",
    "  road_tax = 0.05 * cost_price\n",
    "print(\"The road tax to be paid is:\", road_tax)\n",
    "\n"
   ]
  },
  {
   "cell_type": "code",
   "execution_count": null,
   "id": "a62017a9",
   "metadata": {},
   "outputs": [],
   "source": [
    "# 3. Accept any city from the user and display monuments of that city.\n",
    "city = input(\"Enter the city name: \")\n",
    "if city == \"Delhi\":\n",
    "  monuments = [\"Red Fort\", \"Qutub Minar\", \"Jama Masjid\"]\n",
    "elif city == \"Agra\":\n",
    "  monuments = [\"Taj Mahal\", \"Agra Fort\", \"Fatehpur Sikri\"]\n",
    "elif city == \"Jaipur\":\n",
    "  monuments = [\"Hawa Mahal\", \"Jantar Mantar\", \"City Palace\"]\n",
    "else:\n",
    "  monuments = \"No monuments found\"\n",
    "print(\"The monuments of\", city, \"are:\", monuments)\n",
    "\n"
   ]
  },
  {
   "cell_type": "code",
   "execution_count": null,
   "id": "290692d0",
   "metadata": {},
   "outputs": [],
   "source": [
    "# 4. Check how many times a given number can be divided by 3 before it is less than or equal to 10.\n",
    "number = int(input(\"Enter a number: \"))\n",
    "count = 0\n",
    "while number >= 3:\n",
    "  count += 1\n",
    "  number //= 3\n",
    "print(\"The number can be divided by 3\", count, \"times\")\n",
    "\n"
   ]
  },
  {
   "cell_type": "code",
   "execution_count": null,
   "id": "adb5a88a",
   "metadata": {},
   "outputs": [],
   "source": [
    "# 5. Why and When to Use while Loop in Python?\n",
    "# while loop is a control flow statement that allows code to be executed repeatedly as long as a certain condition is met.\n",
    "# It is useful for tasks that need to be repeated a certain number of times, or until a certain condition is met.\n",
    "\n"
   ]
  },
  {
   "cell_type": "code",
   "execution_count": null,
   "id": "bb9ed86d",
   "metadata": {},
   "outputs": [],
   "source": [
    "# 6. Use nested while loop to print 3 different pattern.\n",
    "# pattern 1\n",
    "i = 0\n",
    "while i < 3:\n",
    "  j = 0\n",
    "  while j <= i:\n",
    "    print(\"*\", end=\" \")\n",
    "    j += 1\n",
    "  print()\n",
    "  i += 1\n",
    "\n",
    "# pattern 2\n",
    "i = 0\n",
    "while i < 3:\n",
    "  j = 3\n",
    "  while j > i:\n",
    "    print(\"*\", end=\" \")\n",
    "    j -= 1\n",
    "  print()\n",
    "  i += 1\n",
    "\n",
    "# pattern 3\n",
    "i = 0\n",
    "while i < 3:\n",
    "  j = 0\n",
    "  while j <= i:\n",
    "    print(j, end=\" \")\n",
    "    j += 1\n",
    "  print()\n",
    "  i += 1\n",
    "\n",
    "\n"
   ]
  },
  {
   "cell_type": "code",
   "execution_count": null,
   "id": "6ce526d3",
   "metadata": {},
   "outputs": [],
   "source": [
    "# 7. Reverse a while loop to display numbers from 10 to 1\n",
    "i = 10\n",
    "while i > 0:\n",
    "  print(i, end=\" \")\n",
    "  i -= 1\n"
   ]
  },
  {
   "cell_type": "code",
   "execution_count": null,
   "id": "418e111c",
   "metadata": {},
   "outputs": [],
   "source": []
  }
 ],
 "metadata": {
  "kernelspec": {
   "display_name": "Python 3 (ipykernel)",
   "language": "python",
   "name": "python3"
  },
  "language_info": {
   "codemirror_mode": {
    "name": "ipython",
    "version": 3
   },
   "file_extension": ".py",
   "mimetype": "text/x-python",
   "name": "python",
   "nbconvert_exporter": "python",
   "pygments_lexer": "ipython3",
   "version": "3.9.7"
  }
 },
 "nbformat": 4,
 "nbformat_minor": 5
}
