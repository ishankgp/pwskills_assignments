{
 "cells": [
  {
   "cell_type": "markdown",
   "id": "d54357b2-ee8e-4a37-b283-5f961295d415",
   "metadata": {},
   "source": []
  },
  {
   "cell_type": "markdown",
   "id": "ec66e118-1e30-4fd0-bcbf-0d2b985ecc2b",
   "metadata": {},
   "source": [
    "Q1. Which keyword is used to create a function? Create a function to return a list of odd numbers in the range of 1 to 25."
   ]
  },
  {
   "cell_type": "code",
   "execution_count": 7,
   "id": "1a33c684-dc6c-4efb-83ac-946a1588411c",
   "metadata": {},
   "outputs": [
    {
     "data": {
      "text/plain": [
       "[1, 3, 5, 7, 9, 11, 13, 15, 17, 19, 21, 23, 25]"
      ]
     },
     "execution_count": 7,
     "metadata": {},
     "output_type": "execute_result"
    }
   ],
   "source": [
    "def num():\n",
    "    odd_num = []\n",
    "    i=1\n",
    "    for i in range(1,26,2):\n",
    "        odd_num.append(i)\n",
    "    return(odd_num)\n",
    "num()\n",
    "        \n",
    "    \n",
    "    "
   ]
  },
  {
   "cell_type": "markdown",
   "id": "bf9014db-6fe7-4fb1-9529-836fcb53dc54",
   "metadata": {},
   "source": [
    "Q2 Why *args and **kwargs is used in some functions? Create a function each for *args and **kwargs to demonstrate their use."
   ]
  },
  {
   "cell_type": "markdown",
   "id": "38bccb83-237d-45fb-a6b9-06a1b0a03065",
   "metadata": {},
   "source": [
    "Answer : *args and **kwargs are special syntax in Python used in function definition to pass a variable number of arguments to a function.\n",
    "\n",
    "    *args is used to send a non-keyworded variable length argument list to the function. It allows you to pass any number of positional arguments to the function.\n",
    "    **kwargs is used to pass a keyworded, variable-length argument dictionary to a function. It allows you to pass any number of keyword arguments to the function."
   ]
  },
  {
   "cell_type": "code",
   "execution_count": 12,
   "id": "f8688bf6-482a-4a31-a8c0-6b5228517712",
   "metadata": {},
   "outputs": [
    {
     "name": "stdout",
     "output_type": "stream",
     "text": [
      "Hello\n",
      "world\n",
      "I\n",
      "am\n",
      "learning\n",
      "Python\n",
      "\n",
      "\n",
      "2nd Example : \n",
      "name = John\n",
      "age = 25\n",
      "country = USA\n"
     ]
    }
   ],
   "source": [
    "def function_with_args(*args):\n",
    "    for arg in args:\n",
    "        print(arg)\n",
    "\n",
    "function_with_args('Hello', 'world', 'I', 'am', 'learning', 'Python')\n",
    "\n",
    "print(\"\\n\\n2nd Example : \")\n",
    "    \n",
    "def function_with_kwargs(**kwargs):\n",
    "    for key, value in kwargs.items():\n",
    "       \n",
    "        print(f\"{key} = {value}\")\n",
    "\n",
    "function_with_kwargs(name='John', age=25, country='USA')\n",
    "\n"
   ]
  },
  {
   "cell_type": "markdown",
   "id": "b50380bf-86c5-4067-8b42-b8953875c879",
   "metadata": {},
   "source": [
    "Q3. What is an iterator in python? Name the method used to initialise the iterator object and the method used for iteration. Use these methods to print the first five elements of the given list [2, 4, 6, 8, 10, 12, 14, 16, 18, 20]."
   ]
  },
  {
   "cell_type": "markdown",
   "id": "da85f332-0d38-4073-b00c-de77c9b59ad2",
   "metadata": {},
   "source": [
    "An iterator in Python is an object that can be iterated (looped) upon. An object which will return data, one element at a time. Python’s iterator protocol requires iterator objects to have two special methods: `__iter__()` and `__next__()`.\n",
    "\n",
    "- `__iter__()` : This method returns the iterator object itself. If required, some initialization can be performed.\n",
    "- `__next__()` : This method returns the next value from the iterator. If there are no more items to return, it should raise `StopIteration`.\n",
    "\n",
    "Here is an example of how you can use these methods to print the first five elements of the given list:"
   ]
  },
  {
   "cell_type": "code",
   "execution_count": null,
   "id": "6d81e5df-88a0-46a0-a757-940771b12793",
   "metadata": {},
   "outputs": [
    {
     "name": "stdout",
     "output_type": "stream",
     "text": [
      "2\n",
      "4\n",
      "6\n",
      "8\n",
      "10\n"
     ]
    }
   ],
   "source": [
    "# Given list\n",
    "lst = [2, 4, 6, 8, 10, 12, 14, 16, 18, 20]\n",
    "\n",
    "# Get an iterator using iter()\n",
    "lst_iter = iter(lst)\n",
    "\n",
    "# Iterate through the first five elements of the list using next()\n",
    "for i in range(5):\n",
    "    print(next(lst_iter))\n",
    "\n",
    "#In this example, `iter(lst)` returns an iterator object for `lst`, and `next(lst_iter)` returns the next value from the iterator. The `for` loop is used to call `next(lst_iter)` five times, which prints the first five elements of the list."
   ]
  },
  {
   "cell_type": "markdown",
   "id": "5db01841-2532-478d-ae89-300390ee0c3a",
   "metadata": {},
   "source": [
    "Q4. What is a generator function in python? Why yield keyword is used? Give an example of a generator\n",
    "function."
   ]
  },
  {
   "cell_type": "markdown",
   "id": "f2d688bf-36a8-4114-83fd-9c754bd07e9d",
   "metadata": {},
   "source": [
    "A generator in Python is a type of iterable, like lists or tuples. Unlike lists, they don't allow indexing with arbitrary indices, but they can still be iterated through with for loops. They can be created using functions and the `yield` keyword.\n",
    "\n",
    "A generator function is defined like a normal function, but whenever it needs to generate a value, it does so with the `yield` keyword rather than `return`. If the body of a `def` contains `yield`, the function automatically becomes a generator function.\n",
    "\n",
    "The `yield` keyword is used in a generator function instead of `return`. This is because it allows the function to produce a sequence of results over time, rather than computing them at once and sending them back like a list. When the generator function is called, it returns a generator object without even beginning execution of the function. When `next()` method is called for the first time, the function starts executing until it reaches `yield` statement. The yielded value is returned by the `next()` call.\n",
    "\n",
    "In this example, `simple_generator` is a generator function because it uses the `yield` keyword. When we call `simple_generator()`, it returns a generator object. We can then use the `next()` function to get the next value from the generator."
   ]
  },
  {
   "cell_type": "code",
   "execution_count": 20,
   "id": "b36863ee-742a-484d-ba1c-97643ed29dd3",
   "metadata": {},
   "outputs": [
    {
     "name": "stdout",
     "output_type": "stream",
     "text": [
      "1\n",
      "2\n",
      "3\n"
     ]
    }
   ],
   "source": [
    "def simple_generator():\n",
    "    yield 1\n",
    "    yield 2\n",
    "    yield 3\n",
    "\n",
    "# Create a generator object\n",
    "gen = simple_generator()\n",
    "\n",
    "# Use next to get the next value from the generator\n",
    "print(next(gen))  # Output: 1\n",
    "print(next(gen))  # Output: 2\n",
    "print(next(gen))  # Output: 3"
   ]
  },
  {
   "cell_type": "markdown",
   "id": "7205bb26-4662-4d46-ad5e-b0a99df1f498",
   "metadata": {},
   "source": [
    "Q5. Create a generator function for prime numbers less than 1000. Use the next() method to print the first 20 prime numbers. "
   ]
  },
  {
   "cell_type": "code",
   "execution_count": 1,
   "id": "fb10c74a-a1c4-48c8-aa12-d9f4831b2db1",
   "metadata": {},
   "outputs": [
    {
     "name": "stdout",
     "output_type": "stream",
     "text": [
      "2\n",
      "3\n",
      "5\n",
      "7\n",
      "11\n",
      "13\n",
      "17\n",
      "19\n",
      "23\n",
      "29\n",
      "31\n",
      "37\n",
      "41\n",
      "43\n",
      "47\n",
      "53\n",
      "59\n",
      "61\n",
      "67\n",
      "71\n"
     ]
    }
   ],
   "source": [
    "def prime_generator():\n",
    "    def is_prime(n):\n",
    "        if n < 2:\n",
    "            return False\n",
    "        for i in range(2, int(n**0.5) + 1):\n",
    "            if n % i == 0:\n",
    "                return False\n",
    "        return True\n",
    "\n",
    "    num = 2  # starts from here number 2 - passes to fun is_prime , if prime returns number else next number , yield is used to store the result in gen \n",
    "    while num < 1000:\n",
    "        if is_prime(num):\n",
    "            yield num\n",
    "        num += 1\n",
    "\n",
    "# Create a generator object\n",
    "gen = prime_generator()\n",
    "\n",
    "# Use next to get the first 20 prime numbers\n",
    "for _ in range(20):\n",
    "    print(next(gen))\n"
   ]
  },
  {
   "cell_type": "code",
   "execution_count": 1,
   "id": "31eccb64-9797-4dcc-a277-95c1cd79c079",
   "metadata": {},
   "outputs": [
    {
     "name": "stdout",
     "output_type": "stream",
     "text": [
      "[2, 3, 5, 7, 11, 13, 17, 19, 23, 29, 31, 37, 41, 43, 47, 53, 59, 61, 67, 71]\n"
     ]
    }
   ],
   "source": [
    "#without using gernerator function !! \n",
    "\n",
    "def is_prime(n):\n",
    "    if n < 2:\n",
    "        return False\n",
    "    for i in range(2, int(n**0.5) + 1):\n",
    "        if n % i == 0:\n",
    "            return False\n",
    "    return True\n",
    "\n",
    "def get_primes():\n",
    "    primes = []\n",
    "    num = 2\n",
    "    while len(primes) < 20:\n",
    "        if is_prime(num):\n",
    "            primes.append(num)\n",
    "        num += 1\n",
    "    return primes\n",
    "\n",
    "print(get_primes())\n"
   ]
  },
  {
   "cell_type": "markdown",
   "id": "d46ef77e-4753-4035-a6c7-2de77a2550a5",
   "metadata": {},
   "source": [
    "Q6. Write a python program to print the first 10 Fibonacci numbers using a while loop."
   ]
  },
  {
   "cell_type": "code",
   "execution_count": 6,
   "id": "c322b850-dad5-49e2-bf41-7a4d5e3cb8a1",
   "metadata": {},
   "outputs": [
    {
     "name": "stdout",
     "output_type": "stream",
     "text": [
      "0\n",
      "1\n",
      "1\n",
      "2\n",
      "3\n",
      "5\n",
      "8\n",
      "13\n",
      "21\n",
      "34\n"
     ]
    }
   ],
   "source": [
    "a, b = 0, 1\n",
    "count = 0\n",
    "while count < 10:\n",
    "    print(a)\n",
    "    a, b = b, a + b\n",
    "    count += 1\n",
    "    \n",
    "    \n",
    "    "
   ]
  },
  {
   "cell_type": "markdown",
   "id": "15632093-29a1-4e37-8e90-85638f91ec3b",
   "metadata": {},
   "source": [
    "Q7. Write a List Comprehension to iterate through the given string: ‘pwskills’.\n",
    "Expected output: ['p', 'w', 's', 'k', 'i', 'l', 'l', 's']"
   ]
  },
  {
   "cell_type": "markdown",
   "id": "22d35593-face-4f96-9d45-09a286e3e733",
   "metadata": {},
   "source": [
    "Answer : List comprehension is a concise way to create lists in Python. It consists of brackets containing an expression followed by a `for` statement, and optionally `for` or `if` clauses. The result will be a new list resulting from evaluating the expression in the context of the `for` and `if` clauses.\n",
    "Here's how you can use list comprehension to iterate through the string 'pwskills' and create a list of its characters:\n",
    "In this example, `char for char in s` is the list comprehension. It goes through each character in `s` and adds it to the new list. The output of this program is `['p', 'w', 's', 'k', 'i', 'l', 'l', 's']`, which is the expected output."
   ]
  },
  {
   "cell_type": "code",
   "execution_count": 8,
   "id": "fe904399-1bf6-4e35-9756-b6406afa1210",
   "metadata": {},
   "outputs": [
    {
     "name": "stdout",
     "output_type": "stream",
     "text": [
      "['p', 'w', 's', 'k', 'i', 'l', 'l', 's']\n"
     ]
    }
   ],
   "source": [
    "s = 'pwskills'\n",
    "output = [char for char in s] # list comprehension \n",
    "print(output)"
   ]
  },
  {
   "cell_type": "markdown",
   "id": "1429cc63-dd3f-411f-918e-7120a81fdc9a",
   "metadata": {},
   "source": [
    "Q8. Write a python program to check whether a given number is Palindrome or not using a while loop."
   ]
  },
  {
   "cell_type": "code",
   "execution_count": 9,
   "id": "9e9456e6-d4bb-4808-9547-455a6ff0fd73",
   "metadata": {},
   "outputs": [
    {
     "name": "stdout",
     "output_type": "stream",
     "text": [
      "121 is a palindrome\n"
     ]
    }
   ],
   "source": [
    "def is_palindrome(num):\n",
    "    original_num = num\n",
    "    reversed_num = 0\n",
    "    while num > 0:\n",
    "        digit = num % 10\n",
    "        reversed_num = reversed_num * 10 + digit\n",
    "        num = num // 10\n",
    "    return original_num == reversed_num\n",
    "\n",
    "# Test the function\n",
    "num = 121\n",
    "if is_palindrome(num):\n",
    "    print(f\"{num} is a palindrome\")\n",
    "else:\n",
    "    print(f\"{num} is not a palindrome\")\n"
   ]
  },
  {
   "cell_type": "code",
   "execution_count": 11,
   "id": "8034dcbf-c655-4136-ad31-dd67114ffdf1",
   "metadata": {},
   "outputs": [
    {
     "data": {
      "text/plain": [
       "10"
      ]
     },
     "execution_count": 11,
     "metadata": {},
     "output_type": "execute_result"
    }
   ],
   "source": [
    "102//10\n"
   ]
  },
  {
   "cell_type": "markdown",
   "id": "25ad9a32-b62e-42ee-9532-29e319c75085",
   "metadata": {},
   "source": [
    "Q9. Write a code to print odd numbers from 1 to 100 using list comprehension."
   ]
  },
  {
   "cell_type": "code",
   "execution_count": 12,
   "id": "e5d0c82b-0fe0-4053-8839-710a252e2bcf",
   "metadata": {},
   "outputs": [
    {
     "name": "stdout",
     "output_type": "stream",
     "text": [
      "[1, 3, 5, 7, 9, 11, 13, 15, 17, 19, 21, 23, 25, 27, 29, 31, 33, 35, 37, 39, 41, 43, 45, 47, 49, 51, 53, 55, 57, 59, 61, 63, 65, 67, 69, 71, 73, 75, 77, 79, 81, 83, 85, 87, 89, 91, 93, 95, 97, 99]\n"
     ]
    }
   ],
   "source": [
    "odd_numbers = [i for i in range(1, 101) if i % 2 != 0]\n",
    "print(odd_numbers)\n"
   ]
  },
  {
   "cell_type": "code",
   "execution_count": null,
   "id": "4d1c7c04-4d7b-4d19-99b9-60a33ae592e2",
   "metadata": {},
   "outputs": [],
   "source": []
  }
 ],
 "metadata": {
  "kernelspec": {
   "display_name": "Python 3 (ipykernel)",
   "language": "python",
   "name": "python3"
  },
  "language_info": {
   "codemirror_mode": {
    "name": "ipython",
    "version": 3
   },
   "file_extension": ".py",
   "mimetype": "text/x-python",
   "name": "python",
   "nbconvert_exporter": "python",
   "pygments_lexer": "ipython3",
   "version": "3.10.8"
  }
 },
 "nbformat": 4,
 "nbformat_minor": 5
}
